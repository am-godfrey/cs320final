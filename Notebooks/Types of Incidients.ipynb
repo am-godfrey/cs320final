{
 "cells": [
  {
   "cell_type": "code",
   "execution_count": 1,
   "metadata": {},
   "outputs": [],
   "source": [
    "import numpy as np\n",
    "import datetime\n",
    "from collections import Counter\n",
    "import pandas as pd\n",
    "import re\n",
    "import matplotlib.pyplot as plt\n",
    "import random"
   ]
  },
  {
   "cell_type": "code",
   "execution_count": 64,
   "metadata": {},
   "outputs": [],
   "source": [
    "reports = pd.read_csv(\"all_data.csv\", encoding =  \"ISO-8859-1\")"
   ]
  },
  {
   "cell_type": "code",
   "execution_count": 211,
   "metadata": {},
   "outputs": [
    {
     "data": {
      "text/plain": [
       "Robbery                 2519\n",
       "Weapons Violation       1819\n",
       "Battery                  992\n",
       "Theft                    718\n",
       "Residential Burglary     608\n",
       "Arrested Person          576\n",
       "Traffic Incident         432\n",
       "Fraud                    429\n",
       "Name: IncidentType, dtype: int64"
      ]
     },
     "execution_count": 211,
     "metadata": {},
     "output_type": "execute_result"
    }
   ],
   "source": [
    "reports['IncidentType'] = [ addy.lstrip().rstrip() for addy in reports['IncidentType'] ]\n",
    "incidents = reports['IncidentType'].str.strip().value_counts()\n",
    "incidents[incidents >400]"
   ]
  },
  {
   "cell_type": "code",
   "execution_count": 137,
   "metadata": {},
   "outputs": [],
   "source": [
    "intrested = incidents[incidents> 600].index.tolist()\n",
    "intrested = [str(incident) for incident in intrested]\n",
    "year_bucket = {}\n",
    "rob= 0\n",
    "for tup in zip(reports['Year'], reports['IncidentType']):\n",
    "    i+=1\n",
    "    year = str(tup[0])\n",
    "    incident = tup[1].lstrip().rstrip()\n",
    "    if incident not in intrested:\n",
    "        continue\n",
    "    if year not in year_bucket:        \n",
    "        year_bucket[year] = {incident: 1}\n",
    "        continue\n",
    "    else:\n",
    "        bucket = year_bucket[year]\n",
    "        if incident in bucket:\n",
    "            bucket[incident] += 1\n",
    "        else:\n",
    "            bucket[incident] = 1\n"
   ]
  },
  {
   "cell_type": "code",
   "execution_count": 138,
   "metadata": {},
   "outputs": [
    {
     "data": {
      "text/plain": [
       "{'2005': {'Residential Burglary': 5,\n",
       "  'Weapons Violation': 43,\n",
       "  'Battery': 20,\n",
       "  'Theft': 10,\n",
       "  'Robbery': 62},\n",
       " '2006': {'Robbery': 137,\n",
       "  'Battery': 25,\n",
       "  'Weapons Violation': 41,\n",
       "  'Theft': 4,\n",
       "  'Residential Burglary': 18},\n",
       " '2007': {'Robbery': 90,\n",
       "  'Weapons Violation': 40,\n",
       "  'Battery': 30,\n",
       "  'Theft': 17,\n",
       "  'Residential Burglary': 11},\n",
       " '2008': {'Weapons Violation': 61,\n",
       "  'Robbery': 185,\n",
       "  'Theft': 15,\n",
       "  'Battery': 48,\n",
       "  'Residential Burglary': 36},\n",
       " '2009': {'Robbery': 270,\n",
       "  'Weapons Violation': 95,\n",
       "  'Theft': 43,\n",
       "  'Battery': 114,\n",
       "  'Residential Burglary': 46},\n",
       " '2010': {'Weapons Violation': 111,\n",
       "  'Robbery': 239,\n",
       "  'Battery': 81,\n",
       "  'Residential Burglary': 59,\n",
       "  'Theft': 41},\n",
       " '2020': {'Residential Burglary': 17,\n",
       "  'Theft': 26,\n",
       "  'Weapons Violation': 42,\n",
       "  'Robbery': 38,\n",
       "  'Battery': 12},\n",
       " '1962': {'Robbery': 1},\n",
       " '2011': {'Weapons Violation': 100,\n",
       "  'Residential Burglary': 43,\n",
       "  'Robbery': 180,\n",
       "  'Theft': 41,\n",
       "  'Battery': 108},\n",
       " '2012': {'Robbery': 161,\n",
       "  'Weapons Violation': 135,\n",
       "  'Residential Burglary': 37,\n",
       "  'Battery': 136,\n",
       "  'Theft': 46},\n",
       " '2013': {'Weapons Violation': 129,\n",
       "  'Robbery': 204,\n",
       "  'Battery': 87,\n",
       "  'Theft': 92,\n",
       "  'Residential Burglary': 53},\n",
       " '2014': {'Robbery': 167,\n",
       "  'Weapons Violation': 109,\n",
       "  'Theft': 79,\n",
       "  'Residential Burglary': 44,\n",
       "  'Battery': 76},\n",
       " '1976': {'Robbery': 1},\n",
       " '2015': {'Robbery': 140,\n",
       "  'Battery': 71,\n",
       "  'Theft': 79,\n",
       "  'Weapons Violation': 154,\n",
       "  'Residential Burglary': 37},\n",
       " '2016': {'Weapons Violation': 161,\n",
       "  'Robbery': 139,\n",
       "  'Residential Burglary': 37,\n",
       "  'Battery': 48,\n",
       "  'Theft': 52},\n",
       " '2017': {'Robbery': 170,\n",
       "  'Weapons Violation': 209,\n",
       "  'Theft': 56,\n",
       "  'Battery': 55,\n",
       "  'Residential Burglary': 28},\n",
       " '2107': {'Weapons Violation': 1},\n",
       " '2018': {'Theft': 63,\n",
       "  'Robbery': 198,\n",
       "  'Weapons Violation': 216,\n",
       "  'Residential Burglary': 54,\n",
       "  'Battery': 44},\n",
       " '2019': {'Robbery': 137,\n",
       "  'Theft': 53,\n",
       "  'Weapons Violation': 172,\n",
       "  'Battery': 37,\n",
       "  'Residential Burglary': 83},\n",
       " '1973': {'Theft': 1}}"
      ]
     },
     "execution_count": 138,
     "metadata": {},
     "output_type": "execute_result"
    }
   ],
   "source": [
    "year_bucket"
   ]
  },
  {
   "cell_type": "code",
   "execution_count": 271,
   "metadata": {},
   "outputs": [
    {
     "data": {
      "text/plain": [
       "{'2015': {'Robbery': 140,\n",
       "  'Battery': 71,\n",
       "  'Theft': 79,\n",
       "  'Weapons Violation': 154,\n",
       "  'Residential Burglary': 37},\n",
       " '2016': {'Weapons Violation': 161,\n",
       "  'Robbery': 139,\n",
       "  'Residential Burglary': 37,\n",
       "  'Battery': 48,\n",
       "  'Theft': 52},\n",
       " '2017': {'Robbery': 170,\n",
       "  'Weapons Violation': 209,\n",
       "  'Theft': 56,\n",
       "  'Battery': 55,\n",
       "  'Residential Burglary': 28},\n",
       " '2018': {'Theft': 63,\n",
       "  'Robbery': 198,\n",
       "  'Weapons Violation': 216,\n",
       "  'Residential Burglary': 54,\n",
       "  'Battery': 44},\n",
       " '2019': {'Robbery': 137,\n",
       "  'Theft': 53,\n",
       "  'Weapons Violation': 172,\n",
       "  'Battery': 37,\n",
       "  'Residential Burglary': 83}}"
      ]
     },
     "execution_count": 271,
     "metadata": {},
     "output_type": "execute_result"
    }
   ],
   "source": [
    "before = ['2009' ,'2010', '2011', '2012', '2013', '2014']\n",
    "years = ['2015', '2016' , '2017', '2018', '2019']\n",
    "years = years #before + years\n",
    "filtered_years = {}\n",
    "for year in years:\n",
    "    filtered_years[year] = year_bucket[year]\n",
    "filtered_years"
   ]
  },
  {
   "cell_type": "code",
   "execution_count": 275,
   "metadata": {},
   "outputs": [
    {
     "data": {
      "text/plain": [
       "1.537037037037037"
      ]
     },
     "execution_count": 275,
     "metadata": {},
     "output_type": "execute_result"
    }
   ],
   "source": [
    "df = pd.DataFrame(filtered_years).T.fillna(0).astype(int)\n",
    "cols = list(df.columns.values)\n",
    "new_cols = ['Weapons Violation', 'Robbery','Theft', 'Battery',  'Residential Burglary']\n",
    "df2 = df[new_cols]\n",
    "peak = df2.loc[str(2019), \"Residential Burglary\"]\n",
    "prev = df2.loc[str(2018), \"Residential Burglary\"]\n",
    "mean = df2[\"Residential Burglary\"].describe()['mean']\n",
    "peak/prev"
   ]
  },
  {
   "cell_type": "code",
   "execution_count": 276,
   "metadata": {},
   "outputs": [
    {
     "data": {
      "image/png": "[encoded data removed]",
      "text/plain": [
       "<Figure size 1008x648 with 1 Axes>"
      ]
     },
     "metadata": {
      "needs_background": "light"
     },
     "output_type": "display_data"
    }
   ],
   "source": [
    "fig, ax = plt.subplots(1, figsize = (14,9))\n",
    "df2.plot.bar(ax = ax, width = 0.8, legend = True)\n",
    "ax.legend(df2.columns.values,prop= {\"size\":15})\n",
    "ax.spines['right'].set_visible(False)\n",
    "ax.spines['top'].set_visible(False)\n",
    "ax.set_title(\"Top 5 Incident Types from 2015 - 2019\", size = 30)\n",
    "ax.set_ylabel(\"Number of Occurences\", size = 23)\n",
    "ax.set_xlabel(\"Year\", size = 25)\n",
    "ax.tick_params(axis='both', which='major', labelsize=18)\n",
    "#plt.savefig(\"IncidentTypesBarFrom20152019.png\", bbox_inches = None)\n",
    "None"
   ]
  },
  {
   "cell_type": "code",
   "execution_count": 300,
   "metadata": {},
   "outputs": [
    {
     "data": {
      "text/html": [
       "<div>\n",
       "<style scoped>\n",
       "    .dataframe tbody tr th:only-of-type {\n",
       "        vertical-align: middle;\n",
       "    }\n",
       "\n",
       "    .dataframe tbody tr th {\n",
       "        vertical-align: top;\n",
       "    }\n",
       "\n",
       "    .dataframe thead th {\n",
       "        text-align: right;\n",
       "    }\n",
       "</style>\n",
       "<table border=\"1\" class=\"dataframe\">\n",
       "  <thead>\n",
       "    <tr style=\"text-align: right;\">\n",
       "      <th></th>\n",
       "      <th>Year</th>\n",
       "      <th>Lat</th>\n",
       "      <th>Lon</th>\n",
       "    </tr>\n",
       "  </thead>\n",
       "  <tbody>\n",
       "    <tr>\n",
       "      <th>8482</th>\n",
       "      <td>2015</td>\n",
       "      <td>43.039123</td>\n",
       "      <td>-89.487352</td>\n",
       "    </tr>\n",
       "    <tr>\n",
       "      <th>8502</th>\n",
       "      <td>2015</td>\n",
       "      <td>43.049098</td>\n",
       "      <td>-89.341752</td>\n",
       "    </tr>\n",
       "    <tr>\n",
       "      <th>8517</th>\n",
       "      <td>2015</td>\n",
       "      <td>43.029673</td>\n",
       "      <td>-89.417746</td>\n",
       "    </tr>\n",
       "    <tr>\n",
       "      <th>8561</th>\n",
       "      <td>2015</td>\n",
       "      <td>43.103040</td>\n",
       "      <td>-89.343183</td>\n",
       "    </tr>\n",
       "    <tr>\n",
       "      <th>8600</th>\n",
       "      <td>2015</td>\n",
       "      <td>43.068241</td>\n",
       "      <td>-89.402486</td>\n",
       "    </tr>\n",
       "    <tr>\n",
       "      <th>...</th>\n",
       "      <td>...</td>\n",
       "      <td>...</td>\n",
       "      <td>...</td>\n",
       "    </tr>\n",
       "    <tr>\n",
       "      <th>12886</th>\n",
       "      <td>2019</td>\n",
       "      <td>43.077641</td>\n",
       "      <td>-89.382363</td>\n",
       "    </tr>\n",
       "    <tr>\n",
       "      <th>12893</th>\n",
       "      <td>2019</td>\n",
       "      <td>43.071273</td>\n",
       "      <td>-89.492076</td>\n",
       "    </tr>\n",
       "    <tr>\n",
       "      <th>12920</th>\n",
       "      <td>2019</td>\n",
       "      <td>43.072067</td>\n",
       "      <td>-89.288851</td>\n",
       "    </tr>\n",
       "    <tr>\n",
       "      <th>12930</th>\n",
       "      <td>2019</td>\n",
       "      <td>43.152592</td>\n",
       "      <td>-89.373499</td>\n",
       "    </tr>\n",
       "    <tr>\n",
       "      <th>12942</th>\n",
       "      <td>2019</td>\n",
       "      <td>43.071327</td>\n",
       "      <td>-89.287267</td>\n",
       "    </tr>\n",
       "  </tbody>\n",
       "</table>\n",
       "<p>239 rows × 3 columns</p>\n",
       "</div>"
      ],
      "text/plain": [
       "       Year        Lat        Lon\n",
       "8482   2015  43.039123 -89.487352\n",
       "8502   2015  43.049098 -89.341752\n",
       "8517   2015  43.029673 -89.417746\n",
       "8561   2015  43.103040 -89.343183\n",
       "8600   2015  43.068241 -89.402486\n",
       "...     ...        ...        ...\n",
       "12886  2019  43.077641 -89.382363\n",
       "12893  2019  43.071273 -89.492076\n",
       "12920  2019  43.072067 -89.288851\n",
       "12930  2019  43.152592 -89.373499\n",
       "12942  2019  43.071327 -89.287267\n",
       "\n",
       "[239 rows x 3 columns]"
      ]
     },
     "execution_count": 300,
     "metadata": {},
     "output_type": "execute_result"
    }
   ],
   "source": [
    "incidents = reports[(reports['IncidentType'] == 'Residential Burglary')]\n",
    "years = incidents[(incidents['Year'] >= 2015) & (incidents['Year']!= 2020)]\n",
    "df = years[[\"Year\" , 'Lat', \"Lon\"]]\n",
    "df ## Plot Per Year TO DO"
   ]
  }
 ],
 "metadata": {
  "kernelspec": {
   "display_name": "Python 3",
   "language": "python",
   "name": "python3"
  },
  "language_info": {
   "codemirror_mode": {
    "name": "ipython",
    "version": 3
   },
   "file_extension": ".py",
   "mimetype": "text/x-python",
   "name": "python",
   "nbconvert_exporter": "python",
   "pygments_lexer": "ipython3",
   "version": "3.7.4"
  }
 },
 "nbformat": 4,
 "nbformat_minor": 2
}
