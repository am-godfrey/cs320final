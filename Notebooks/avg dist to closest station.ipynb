{
 "cells": [
  {
   "cell_type": "code",
   "execution_count": 69,
   "metadata": {},
   "outputs": [],
   "source": [
    "import pandas as pd\n",
    "from math import sin, cos, asin, sqrt, pi\n",
    "import matplotlib.pyplot as plt\n"
   ]
  },
  {
   "cell_type": "code",
   "execution_count": 8,
   "metadata": {},
   "outputs": [],
   "source": [
    "def haversine_miles(lat1, lon1, lat2, lon2):\n",
    "    \"\"\"Calculates the distance between two points on earth using the\n",
    "    harversine distance (distance between points on a sphere)\n",
    "    See: https://en.wikipedia.org/wiki/Haversine_formula\n",
    "\n",
    "    :param lat1: latitude of point 1\n",
    "    :param lon1: longitude of point 1\n",
    "    :param lat2: latitude of point 2\n",
    "    :param lon2: longitude of point 2\n",
    "    :return: distance in miles between points\n",
    "    \"\"\"\n",
    "    lat1, lon1, lat2, lon2 = (a/180*pi for a in [lat1, lon1, lat2, lon2])\n",
    "    dlon = lon2 - lon1\n",
    "    dlat = lat2 - lat1\n",
    "    a = sin(dlat/2) ** 2 + cos(lat1) * cos(lat2) * sin(dlon/2) ** 2\n",
    "    c = 2 * asin(min(1, sqrt(a)))\n",
    "    d = 3956 * c\n",
    "    return d"
   ]
  },
  {
   "cell_type": "code",
   "execution_count": 21,
   "metadata": {},
   "outputs": [
    {
     "data": {
      "text/html": [
       "<div>\n",
       "<style scoped>\n",
       "    .dataframe tbody tr th:only-of-type {\n",
       "        vertical-align: middle;\n",
       "    }\n",
       "\n",
       "    .dataframe tbody tr th {\n",
       "        vertical-align: top;\n",
       "    }\n",
       "\n",
       "    .dataframe thead th {\n",
       "        text-align: right;\n",
       "    }\n",
       "</style>\n",
       "<table border=\"1\" class=\"dataframe\">\n",
       "  <thead>\n",
       "    <tr style=\"text-align: right;\">\n",
       "      <th></th>\n",
       "      <th>Year</th>\n",
       "      <th>Lat</th>\n",
       "      <th>Lon</th>\n",
       "    </tr>\n",
       "  </thead>\n",
       "  <tbody>\n",
       "    <tr>\n",
       "      <th>0</th>\n",
       "      <td>2005</td>\n",
       "      <td>43.079849</td>\n",
       "      <td>-89.377004</td>\n",
       "    </tr>\n",
       "    <tr>\n",
       "      <th>1</th>\n",
       "      <td>2005</td>\n",
       "      <td>43.039938</td>\n",
       "      <td>-89.503098</td>\n",
       "    </tr>\n",
       "    <tr>\n",
       "      <th>2</th>\n",
       "      <td>2005</td>\n",
       "      <td>43.033631</td>\n",
       "      <td>-89.446744</td>\n",
       "    </tr>\n",
       "    <tr>\n",
       "      <th>3</th>\n",
       "      <td>2005</td>\n",
       "      <td>43.072397</td>\n",
       "      <td>-89.382550</td>\n",
       "    </tr>\n",
       "    <tr>\n",
       "      <th>4</th>\n",
       "      <td>2005</td>\n",
       "      <td>43.031087</td>\n",
       "      <td>-89.480089</td>\n",
       "    </tr>\n",
       "    <tr>\n",
       "      <th>...</th>\n",
       "      <td>...</td>\n",
       "      <td>...</td>\n",
       "      <td>...</td>\n",
       "    </tr>\n",
       "    <tr>\n",
       "      <th>12866</th>\n",
       "      <td>2020</td>\n",
       "      <td>43.068746</td>\n",
       "      <td>-89.426609</td>\n",
       "    </tr>\n",
       "    <tr>\n",
       "      <th>12867</th>\n",
       "      <td>2020</td>\n",
       "      <td>43.141890</td>\n",
       "      <td>-89.390217</td>\n",
       "    </tr>\n",
       "    <tr>\n",
       "      <th>12868</th>\n",
       "      <td>2020</td>\n",
       "      <td>43.068446</td>\n",
       "      <td>-89.393683</td>\n",
       "    </tr>\n",
       "    <tr>\n",
       "      <th>12869</th>\n",
       "      <td>2020</td>\n",
       "      <td>43.079573</td>\n",
       "      <td>-89.383174</td>\n",
       "    </tr>\n",
       "    <tr>\n",
       "      <th>12870</th>\n",
       "      <td>2020</td>\n",
       "      <td>43.067321</td>\n",
       "      <td>-89.390464</td>\n",
       "    </tr>\n",
       "  </tbody>\n",
       "</table>\n",
       "<p>12871 rows × 3 columns</p>\n",
       "</div>"
      ],
      "text/plain": [
       "       Year        Lat        Lon\n",
       "0      2005  43.079849 -89.377004\n",
       "1      2005  43.039938 -89.503098\n",
       "2      2005  43.033631 -89.446744\n",
       "3      2005  43.072397 -89.382550\n",
       "4      2005  43.031087 -89.480089\n",
       "...     ...        ...        ...\n",
       "12866  2020  43.068746 -89.426609\n",
       "12867  2020  43.141890 -89.390217\n",
       "12868  2020  43.068446 -89.393683\n",
       "12869  2020  43.079573 -89.383174\n",
       "12870  2020  43.067321 -89.390464\n",
       "\n",
       "[12871 rows x 3 columns]"
      ]
     },
     "execution_count": 21,
     "metadata": {},
     "output_type": "execute_result"
    }
   ],
   "source": [
    "with open(\"Location_Years.csv\") as f:\n",
    "    location = pd.read_csv(f)\n",
    "df = location[['Year','Lat', \"Lon\"]]\n",
    "with open(\"policestations.csv\") as f:\n",
    "    stations = pd.read_csv(f)\n",
    "stations = stations[[\"X\",\"Y\"]]\n",
    "df"
   ]
  },
  {
   "cell_type": "code",
   "execution_count": 59,
   "metadata": {},
   "outputs": [],
   "source": [
    "closestdict = {}\n",
    "years = df[\"Year\"].unique().tolist()\n",
    "years = sorted(years)[8:-2]\n",
    "for year in years:\n",
    "    closestdict[year] = []\n",
    "for index, row in df.iterrows():\n",
    "    policedist = []\n",
    "    for index2, row2 in stations.iterrows():\n",
    "        policedist.append(haversine_miles(row[\"Lat\"], row[\"Lon\"], row2[\"Y\"], row2[\"X\"]))\n",
    "    intyear = int(row[\"Year\"])\n",
    "    if intyear in years:\n",
    "        closestdict[intyear].append(min(policedist))\n"
   ]
  },
  {
   "cell_type": "code",
   "execution_count": 67,
   "metadata": {},
   "outputs": [
    {
     "data": {
      "text/plain": [
       "{2005: 1.3408797551848282,\n",
       " 2006: 1.3112670830797972,\n",
       " 2007: 1.33633911580308,\n",
       " 2008: 1.2547857138234828,\n",
       " 2009: 1.299129066925962,\n",
       " 2010: 1.324657351337306,\n",
       " 2011: 1.28475527258375,\n",
       " 2012: 1.274867557774623,\n",
       " 2013: 1.3231069553674553,\n",
       " 2014: 1.3015367601104089,\n",
       " 2015: 1.3193945919843775,\n",
       " 2016: 1.3244377784496109,\n",
       " 2017: 1.3335164235630081,\n",
       " 2018: 1.269661529113263,\n",
       " 2019: 1.343452710384119}"
      ]
     },
     "execution_count": 67,
     "metadata": {},
     "output_type": "execute_result"
    }
   ],
   "source": [
    "final = {}\n",
    "for year in years:\n",
    "    final[year] = sum(closestdict[year])/len(closestdict[year])\n",
    "final"
   ]
  },
  {
   "cell_type": "code",
   "execution_count": 88,
   "metadata": {},
   "outputs": [
    {
     "data": {
      "image/png": "[encoded data removed]",
      "text/plain": [
       "<Figure size 720x360 with 1 Axes>"
      ]
     },
     "metadata": {
      "needs_background": "light"
     },
     "output_type": "display_data"
    }
   ],
   "source": [
    "plt.figure(figsize=(10,5))\n",
    "datalist = []\n",
    "x = years\n",
    "for data in final.values():\n",
    "    datalist.append(data)\n",
    "y = datalist\n",
    "plt.title(\"Average Distance From Nearest Police Station\")\n",
    "plt.xlabel(\"Year\")\n",
    "plt.ylabel(\"Distance (Miles)\")\n",
    "plt.scatter(x,y,s = 40)\n",
    "plt.show()"
   ]
  },
  {
   "cell_type": "code",
   "execution_count": null,
   "metadata": {},
   "outputs": [],
   "source": []
  }
 ],
 "metadata": {
  "kernelspec": {
   "display_name": "Python 3",
   "language": "python",
   "name": "python3"
  },
  "language_info": {
   "codemirror_mode": {
    "name": "ipython",
    "version": 3
   },
   "file_extension": ".py",
   "mimetype": "text/x-python",
   "name": "python",
   "nbconvert_exporter": "python",
   "pygments_lexer": "ipython3",
   "version": "3.6.9"
  }
 },
 "nbformat": 4,
 "nbformat_minor": 4
}
