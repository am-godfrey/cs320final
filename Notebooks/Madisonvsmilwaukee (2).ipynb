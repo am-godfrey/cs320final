{
 "cells": [
  {
   "cell_type": "code",
   "execution_count": 1,
   "metadata": {},
   "outputs": [],
   "source": [
    "import pandas as pd\n",
    "import matplotlib.pyplot as plt\n",
    "from collections import Counter\n",
    "from collections import OrderedDict"
   ]
  },
  {
   "cell_type": "markdown",
   "metadata": {},
   "source": [
    "Question:\n",
    "Compared with Milwaukee, which month has the lowest amount of crime from 2005 - 2019?"
   ]
  },
  {
   "cell_type": "code",
   "execution_count": 2,
   "metadata": {},
   "outputs": [],
   "source": [
    "def haversine_miles(lat1, lon1, lat2, lon2):\n",
    "    \"\"\"Calculates the distance between two points on earth using the\n",
    "    harversine distance (distance between points on a sphere)\n",
    "    See: https://en.wikipedia.org/wiki/Haversine_formula\n",
    "\n",
    "    :param lat1: latitude of point 1\n",
    "    :param lon1: longitude of point 1\n",
    "    :param lat2: latitude of point 2\n",
    "    :param lon2: longitude of point 2\n",
    "    :return: distance in miles between points\n",
    "    \"\"\"\n",
    "    lat1, lon1, lat2, lon2 = (a/180*pi for a in [lat1, lon1, lat2, lon2])\n",
    "    dlon = lon2 - lon1\n",
    "    dlat = lat2 - lat1\n",
    "    a = sin(dlat/2) ** 2 + cos(lat1) * cos(lat2) * sin(dlon/2) ** 2\n",
    "    c = 2 * asin(min(1, sqrt(a)))\n",
    "    d = 3956 * c\n",
    "    return d"
   ]
  },
  {
   "cell_type": "code",
   "execution_count": 3,
   "metadata": {},
   "outputs": [],
   "source": [
    "with open(\"wibrarchive.csv\") as f: \n",
    "    mildata = pd.read_csv(f)\n",
    "milwauke = mildata[\"ReportedMonth\"].values.tolist()\n",
    "mil = sorted(milwauke)"
   ]
  },
  {
   "cell_type": "code",
   "execution_count": 4,
   "metadata": {},
   "outputs": [],
   "source": [
    "with open(\"Location_Years.csv\") as f:\n",
    "    location = pd.read_csv(f)\n",
    "df = location[['Year','month']]"
   ]
  },
  {
   "cell_type": "code",
   "execution_count": 5,
   "metadata": {},
   "outputs": [],
   "source": [
    "years = df[\"Year\"].unique().tolist()\n",
    "years = sorted(years)[8:-2]"
   ]
  },
  {
   "cell_type": "code",
   "execution_count": 6,
   "metadata": {},
   "outputs": [],
   "source": [
    "monthlist = []\n",
    "for val in df[\"month\"]:\n",
    "    if eval(val)[0] in years:\n",
    "        monthlist.append(eval(val)[1]) #https://www.geeksforgeeks.org/python-convert-string-to-tuple/\n",
    "madisonlist = sorted(monthlist)"
   ]
  },
  {
   "cell_type": "markdown",
   "metadata": {},
   "source": [
    "Population of Madison (2018): 258,054 #https://www.google.com/publicdata/explore?ds=kf7tgg1uo9ude_&met_y=population&idim=sub_county:5548000:5531000:2743000&hl=en&dl=en\n",
    "\n",
    "Population of Milwaukee (2018): 592,025 #https://www.google.com/publicdata/explore?ds=kf7tgg1uo9ude_&ctype=l&strail=false&bcs=d&nselm=h&met_y=population&scale_y=lin&ind_y=false&rdim=country&idim=place:5553000&ifdim=country&hl=en&dl=en&ind=false"
   ]
  },
  {
   "cell_type": "markdown",
   "metadata": {},
   "source": [
    "To make Milwaukee's statistics comparable to Madison's, I will divide the statistics of Milwaukee by 2.294. I used the population data of 2018 from the US Census Bureau. Milwaukee's population is approximately 2.294 times larger than Madison's."
   ]
  },
  {
   "cell_type": "code",
   "execution_count": 17,
   "metadata": {},
   "outputs": [
    {
     "data": {
      "text/plain": [
       "Counter({1: 1004,\n",
       "         2: 789,\n",
       "         3: 951,\n",
       "         4: 1036,\n",
       "         5: 1149,\n",
       "         6: 1084,\n",
       "         7: 1142,\n",
       "         8: 1054,\n",
       "         9: 1179,\n",
       "         10: 1154,\n",
       "         11: 1046,\n",
       "         12: 1034})"
      ]
     },
     "execution_count": 17,
     "metadata": {},
     "output_type": "execute_result"
    }
   ],
   "source": [
    "madison = Counter(madisonlist)\n",
    "madison"
   ]
  },
  {
   "cell_type": "code",
   "execution_count": 9,
   "metadata": {},
   "outputs": [
    {
     "data": {
      "text/plain": [
       "Counter({1: 52338,\n",
       "         2: 42169,\n",
       "         3: 52433,\n",
       "         4: 55867,\n",
       "         5: 60498,\n",
       "         6: 61544,\n",
       "         7: 66490,\n",
       "         8: 66118,\n",
       "         9: 62076,\n",
       "         10: 62909,\n",
       "         11: 58202,\n",
       "         12: 53368})"
      ]
     },
     "execution_count": 9,
     "metadata": {},
     "output_type": "execute_result"
    }
   ],
   "source": [
    "MKE = Counter(mil)\n",
    "MKE"
   ]
  },
  {
   "cell_type": "code",
   "execution_count": 20,
   "metadata": {},
   "outputs": [
    {
     "data": {
      "text/plain": [
       "Counter({1: 9971.64811502166,\n",
       "         2: 8034.208975550239,\n",
       "         3: 9989.74790047252,\n",
       "         4: 10644.007513506727,\n",
       "         5: 11526.324423221758,\n",
       "         6: 11725.612587238586,\n",
       "         7: 12667.944575027517,\n",
       "         8: 12597.0696256831,\n",
       "         9: 11826.971385763396,\n",
       "         10: 11985.677925558823,\n",
       "         11: 11088.881187483104,\n",
       "         12: 10167.887894120448})"
      ]
     },
     "execution_count": 20,
     "metadata": {},
     "output_type": "execute_result"
    }
   ],
   "source": [
    "for key,val in MKE.items():\n",
    "    MKE[key] = val/2.291\n",
    "MKE"
   ]
  },
  {
   "cell_type": "code",
   "execution_count": 21,
   "metadata": {},
   "outputs": [
    {
     "data": {
      "text/plain": [
       "<matplotlib.legend.Legend at 0x7f75a6164e80>"
      ]
     },
     "execution_count": 21,
     "metadata": {},
     "output_type": "execute_result"
    },
    {
     "data": {
      "image/png": "[encoded data removed]",
      "text/plain": [
       "<Figure size 864x576 with 1 Axes>"
      ]
     },
     "metadata": {
      "needs_background": "light"
     },
     "output_type": "display_data"
    }
   ],
   "source": [
    "ax, fig = plt.subplots(figsize = (12,8))\n",
    "plt.plot(list(MKE.keys()), list(MKE.values()),marker = \"o\") # scatter works better than bar as the difference is too great\n",
    "plt.plot(list(madison.keys()),list(madison.values()), marker = \"o\")\n",
    "plt.xlabel(\"Month\", size =15)\n",
    "plt.ylabel(\"Number of Crimes\", size =15)\n",
    "plt.title(\"Crimes per Month Compared between Madison and Milwaukee (Adjusted to Population Ratio)\", size = 20)\n",
    "plt.legend((\"Milwaukee\",\"Madison\"))"
   ]
  },
  {
   "cell_type": "markdown",
   "metadata": {},
   "source": [
    "Even if we divide the amount of reported incidents of Milwaukee by the ratio of the population of Madison, Milwaukee still boasts a significant higher number of incidents. On the graph, this is shown by how the high numbers of Milwaukee make Madison's data look like a flat line as the amount of crime in Madison per month hovers around a thousand. The trend that is set here is that crime is more common in the summer months than in winter. Perhaps it's too cold to do bad stuff. The graph also shows that the month of Feburary has the least amount of crime between 2005-2019 for both cities.\n",
    "\n",
    "Conclusion: Feburary is the safest month within the year, and Madison remains a much safer city to live and study in.\n",
    "\n"
   ]
  },
  {
   "cell_type": "code",
   "execution_count": null,
   "metadata": {},
   "outputs": [],
   "source": []
  }
 ],
 "metadata": {
  "kernelspec": {
   "display_name": "Python 3",
   "language": "python",
   "name": "python3"
  },
  "language_info": {
   "codemirror_mode": {
    "name": "ipython",
    "version": 3
   },
   "file_extension": ".py",
   "mimetype": "text/x-python",
   "name": "python",
   "nbconvert_exporter": "python",
   "pygments_lexer": "ipython3",
   "version": "3.6.9"
  }
 },
 "nbformat": 4,
 "nbformat_minor": 4
}
