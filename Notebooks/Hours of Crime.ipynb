{
 "cells": [
  {
   "cell_type": "code",
   "execution_count": 10,
   "metadata": {},
   "outputs": [],
   "source": [
    "\n",
    "from datetime import datetime, date, timedelta\n",
    "import matplotlib\n",
    "import pandas as pd\n",
    "from pandas import Series, DataFrame\n",
    "from datetime import datetime\n",
    "from matplotlib import pyplot as plt"
   ]
  },
  {
   "cell_type": "code",
   "execution_count": 11,
   "metadata": {},
   "outputs": [
    {
     "data": {
      "text/html": [
       "<div>\n",
       "<style scoped>\n",
       "    .dataframe tbody tr th:only-of-type {\n",
       "        vertical-align: middle;\n",
       "    }\n",
       "\n",
       "    .dataframe tbody tr th {\n",
       "        vertical-align: top;\n",
       "    }\n",
       "\n",
       "    .dataframe thead th {\n",
       "        text-align: right;\n",
       "    }\n",
       "</style>\n",
       "<table border=\"1\" class=\"dataframe\">\n",
       "  <thead>\n",
       "    <tr style=\"text-align: right;\">\n",
       "      <th></th>\n",
       "      <th>IncidentID</th>\n",
       "      <th>IncidentType</th>\n",
       "      <th>CaseNumber</th>\n",
       "      <th>IncidentDate</th>\n",
       "      <th>Suspect</th>\n",
       "      <th>Arrested</th>\n",
       "      <th>Address</th>\n",
       "      <th>Victim</th>\n",
       "      <th>Details</th>\n",
       "      <th>ReleasedBy</th>\n",
       "      <th>DateModified</th>\n",
       "    </tr>\n",
       "  </thead>\n",
       "  <tbody>\n",
       "    <tr>\n",
       "      <th>0</th>\n",
       "      <td>7400</td>\n",
       "      <td>Assist Outside Agency</td>\n",
       "      <td>2005-13680                                    ...</td>\n",
       "      <td>2005-10-07T03:33:00.000Z</td>\n",
       "      <td>NaN</td>\n",
       "      <td>...</td>\n",
       "      <td>700 Block of E. Washington Ave.               ...</td>\n",
       "      <td>...</td>\n",
       "      <td>On 2/6/05 at approximately 10:33 p.m. Officer ...</td>\n",
       "      <td>Mike Hanson</td>\n",
       "      <td>NaN</td>\n",
       "    </tr>\n",
       "    <tr>\n",
       "      <th>1</th>\n",
       "      <td>7401</td>\n",
       "      <td>Arrested Person</td>\n",
       "      <td>2005-22647                                    ...</td>\n",
       "      <td>2005-03-03T05:42:00.000Z</td>\n",
       "      <td>NaN</td>\n",
       "      <td>Tony R Markovitch, 20 years old, 301 Knutson D...</td>\n",
       "      <td>First St &amp; E Washington Ave                   ...</td>\n",
       "      <td>n/a                                           ...</td>\n",
       "      <td>At approximately 11:42 pm, an officer noted a ...</td>\n",
       "      <td>Lt Pat Malloy</td>\n",
       "      <td>NaN</td>\n",
       "    </tr>\n",
       "    <tr>\n",
       "      <th>2</th>\n",
       "      <td>7402</td>\n",
       "      <td>Arrested Person</td>\n",
       "      <td>2005-22345                                    ...</td>\n",
       "      <td>2005-03-02T14:30:00.000Z</td>\n",
       "      <td>NaN</td>\n",
       "      <td>Martell D. Britton m/b 05-03-85\\r\\r\\nCharge:  ...</td>\n",
       "      <td>8 New Berm Court                              ...</td>\n",
       "      <td>Home Depot                                    ...</td>\n",
       "      <td>On 03/02/2005 at approximately 8:15 am, the Ma...</td>\n",
       "      <td>Lt. T. Peterson</td>\n",
       "      <td>NaN</td>\n",
       "    </tr>\n",
       "    <tr>\n",
       "      <th>3</th>\n",
       "      <td>7403</td>\n",
       "      <td>Arrested Person</td>\n",
       "      <td>2005-22688                                    ...</td>\n",
       "      <td>2005-03-03T13:30:00.000Z</td>\n",
       "      <td>NaN</td>\n",
       "      <td>Twainesse L Peavy, 26 yrs old, 2317 Fish Hatch...</td>\n",
       "      <td>4300 Lumley Rd                                ...</td>\n",
       "      <td>Adult male resident of Madison                ...</td>\n",
       "      <td>At approximately 7:30 am this date, Officers r...</td>\n",
       "      <td>Lt. Pat Malloy</td>\n",
       "      <td>NaN</td>\n",
       "    </tr>\n",
       "    <tr>\n",
       "      <th>4</th>\n",
       "      <td>7404</td>\n",
       "      <td>Information</td>\n",
       "      <td>2005-999999                                   ...</td>\n",
       "      <td>2005-03-04T19:45:00.000Z</td>\n",
       "      <td>NaN</td>\n",
       "      <td>...</td>\n",
       "      <td>211 S. Carroll Street                         ...</td>\n",
       "      <td>...</td>\n",
       "      <td>DELIVERY NOTICES FOR UNPAID PARKING TICKETS\\r\\...</td>\n",
       "      <td>Lieutenant Joe Balles</td>\n",
       "      <td>NaN</td>\n",
       "    </tr>\n",
       "  </tbody>\n",
       "</table>\n",
       "</div>"
      ],
      "text/plain": [
       "   IncidentID                                     IncidentType  \\\n",
       "0        7400  Assist Outside Agency                             \n",
       "1        7401  Arrested Person                                   \n",
       "2        7402  Arrested Person                                   \n",
       "3        7403  Arrested Person                                   \n",
       "4        7404  Information                                       \n",
       "\n",
       "                                          CaseNumber  \\\n",
       "0  2005-13680                                    ...   \n",
       "1  2005-22647                                    ...   \n",
       "2  2005-22345                                    ...   \n",
       "3  2005-22688                                    ...   \n",
       "4  2005-999999                                   ...   \n",
       "\n",
       "               IncidentDate Suspect  \\\n",
       "0  2005-10-07T03:33:00.000Z     NaN   \n",
       "1  2005-03-03T05:42:00.000Z     NaN   \n",
       "2  2005-03-02T14:30:00.000Z     NaN   \n",
       "3  2005-03-03T13:30:00.000Z     NaN   \n",
       "4  2005-03-04T19:45:00.000Z     NaN   \n",
       "\n",
       "                                            Arrested  \\\n",
       "0                                                ...   \n",
       "1  Tony R Markovitch, 20 years old, 301 Knutson D...   \n",
       "2  Martell D. Britton m/b 05-03-85\\r\\r\\nCharge:  ...   \n",
       "3  Twainesse L Peavy, 26 yrs old, 2317 Fish Hatch...   \n",
       "4                                                ...   \n",
       "\n",
       "                                             Address  \\\n",
       "0  700 Block of E. Washington Ave.               ...   \n",
       "1  First St & E Washington Ave                   ...   \n",
       "2  8 New Berm Court                              ...   \n",
       "3  4300 Lumley Rd                                ...   \n",
       "4  211 S. Carroll Street                         ...   \n",
       "\n",
       "                                              Victim  \\\n",
       "0                                                ...   \n",
       "1  n/a                                           ...   \n",
       "2  Home Depot                                    ...   \n",
       "3  Adult male resident of Madison                ...   \n",
       "4                                                ...   \n",
       "\n",
       "                                             Details  \\\n",
       "0  On 2/6/05 at approximately 10:33 p.m. Officer ...   \n",
       "1  At approximately 11:42 pm, an officer noted a ...   \n",
       "2  On 03/02/2005 at approximately 8:15 am, the Ma...   \n",
       "3  At approximately 7:30 am this date, Officers r...   \n",
       "4  DELIVERY NOTICES FOR UNPAID PARKING TICKETS\\r\\...   \n",
       "\n",
       "                                 ReleasedBy DateModified  \n",
       "0  Mike Hanson                                       NaN  \n",
       "1  Lt Pat Malloy                                     NaN  \n",
       "2  Lt. T. Peterson                                   NaN  \n",
       "3  Lt. Pat Malloy                                    NaN  \n",
       "4  Lieutenant Joe Balles                             NaN  "
      ]
     },
     "execution_count": 11,
     "metadata": {},
     "output_type": "execute_result"
    }
   ],
   "source": [
    "incidents = pd.read_csv('Police_Incident_Reports.csv')\n",
    "incidents.head()\n"
   ]
  },
  {
   "cell_type": "code",
   "execution_count": 12,
   "metadata": {},
   "outputs": [
    {
     "name": "stdout",
     "output_type": "stream",
     "text": [
      "\n",
      "    Pandas replacement for python datetime.datetime object.\n",
      "\n",
      "    Timestamp is the pandas equivalent of python's Datetime\n",
      "    and is interchangeable with it in most cases. It's the type used\n",
      "    for the entries that make up a DatetimeIndex, and other timeseries\n",
      "    oriented data structures in pandas.\n",
      "\n",
      "    Parameters\n",
      "    ----------\n",
      "    ts_input : datetime-like, str, int, float\n",
      "        Value to be converted to Timestamp.\n",
      "    freq : str, DateOffset\n",
      "        Offset which Timestamp will have.\n",
      "    tz : str, pytz.timezone, dateutil.tz.tzfile or None\n",
      "        Time zone for time which Timestamp will have.\n",
      "    unit : str\n",
      "        Unit used for conversion if ts_input is of type int or float. The\n",
      "        valid values are 'D', 'h', 'm', 's', 'ms', 'us', and 'ns'. For\n",
      "        example, 's' means seconds and 'ms' means milliseconds.\n",
      "    year, month, day : int\n",
      "    hour, minute, second, microsecond : int, optional, default 0\n",
      "    nanosecond : int, optional, default 0\n",
      "        .. versionadded:: 0.23.0\n",
      "    tzinfo : datetime.tzinfo, optional, default None\n",
      "\n",
      "    Notes\n",
      "    -----\n",
      "    There are essentially three calling conventions for the constructor. The\n",
      "    primary form accepts four parameters. They can be passed by position or\n",
      "    keyword.\n",
      "\n",
      "    The other two forms mimic the parameters from ``datetime.datetime``. They\n",
      "    can be passed by either position or keyword, but not both mixed together.\n",
      "\n",
      "    Examples\n",
      "    --------\n",
      "    Using the primary calling convention:\n",
      "\n",
      "    This converts a datetime-like string\n",
      "\n",
      "    >>> pd.Timestamp('2017-01-01T12')\n",
      "    Timestamp('2017-01-01 12:00:00')\n",
      "\n",
      "    This converts a float representing a Unix epoch in units of seconds\n",
      "\n",
      "    >>> pd.Timestamp(1513393355.5, unit='s')\n",
      "    Timestamp('2017-12-16 03:02:35.500000')\n",
      "\n",
      "    This converts an int representing a Unix-epoch in units of seconds\n",
      "    and for a particular timezone\n",
      "\n",
      "    >>> pd.Timestamp(1513393355, unit='s', tz='US/Pacific')\n",
      "    Timestamp('2017-12-15 19:02:35-0800', tz='US/Pacific')\n",
      "\n",
      "    Using the other two forms that mimic the API for ``datetime.datetime``:\n",
      "\n",
      "    >>> pd.Timestamp(2017, 1, 1, 12)\n",
      "    Timestamp('2017-01-01 12:00:00')\n",
      "\n",
      "    >>> pd.Timestamp(year=2017, month=1, day=1, hour=12)\n",
      "    Timestamp('2017-01-01 12:00:00')\n",
      "    \n"
     ]
    }
   ],
   "source": [
    "dates = pd.to_datetime(incidents['IncidentDate']) #converting all to a pd timestamp type\n",
    "print(type(dates[0]).__doc__)"
   ]
  },
  {
   "cell_type": "code",
   "execution_count": 13,
   "metadata": {},
   "outputs": [
    {
     "name": "stdout",
     "output_type": "stream",
     "text": [
      "Index(['IncidentID', 'IncidentType', 'CaseNumber', 'IncidentDate', 'Suspect',\n",
      "       'Arrested', 'Address', 'Victim', 'Details', 'ReleasedBy',\n",
      "       'DateModified'],\n",
      "      dtype='object')\n"
     ]
    },
    {
     "data": {
      "text/plain": [
       "12870"
      ]
     },
     "execution_count": 13,
     "metadata": {},
     "output_type": "execute_result"
    }
   ],
   "source": [
    "print(incidents.columns)\n",
    "len(incidents[incidents['Arrested'] != incidents['Arrested'][0]])\n",
    "\n"
   ]
  },
  {
   "cell_type": "code",
   "execution_count": 14,
   "metadata": {},
   "outputs": [
    {
     "data": {
      "text/plain": [
       "Text(0.5, 1.0, 'Number of Incidents at each hour of day in Madison, WI')"
      ]
     },
     "execution_count": 14,
     "metadata": {},
     "output_type": "execute_result"
    },
    {
     "data": {
      "image/png": "[encoded data removed]",
      "text/plain": [
       "<Figure size 1080x432 with 1 Axes>"
      ]
     },
     "metadata": {
      "needs_background": "light"
     },
     "output_type": "display_data"
    }
   ],
   "source": [
    "#IDEA 1\n",
    "#could make a plot that shows at what time a crime is most likely to occur using this data\n",
    "#probably by interval of 30 mins or 1 hr\n",
    "\n",
    "dates = pd.to_datetime(incidents['IncidentDate']) #converting all to a pd timestamp type\n",
    "dates -= dates.dt.floor('d') #deducting each time stamp by a day to get the hour/min\n",
    "hours = sorted([int(timeval.seconds/3600) for timeval in dates])#extracting hours (rounded down)\n",
    "\n",
    "hour_count = {}\n",
    "for time in hours:\n",
    "    if time not in hour_count:\n",
    "        hour_count[time] = 0\n",
    "    hour_count[time] += 1\n",
    "fig, ax = plt.subplots(1, figsize=(15,6))\n",
    "df = pd.DataFrame({'Hours':list(hour_count.keys()),'Count':list(hour_count.values()) })\n",
    "df.plot.bar(ax=ax, x='Hours', y='Count', legend=False, figsize=(15,6), color='black')\n",
    "ax.set_ylabel('Number of Incidents', size=20)\n",
    "ax.set_xlabel('Time of Day', size=20)\n",
    "ax.set_title('Number of Incidents at each hour of day in Madison, WI')"
   ]
  },
  {
   "cell_type": "code",
   "execution_count": 15,
   "metadata": {},
   "outputs": [
    {
     "data": {
      "text/plain": [
       "Text(0.5, 1.0, '% of Incidents at each hour of day in Madison, WI')"
      ]
     },
     "execution_count": 15,
     "metadata": {},
     "output_type": "execute_result"
    },
    {
     "data": {
      "image/png": "[encoded data removed]",
      "text/plain": [
       "<Figure size 1080x432 with 1 Axes>"
      ]
     },
     "metadata": {
      "needs_background": "light"
     },
     "output_type": "display_data"
    }
   ],
   "source": [
    "total_count = df['Count'].sum()\n",
    "df['Count'] = df['Count'] / total_count * 100\n",
    "ax = df.plot.bar(x='Hours', y='Count', legend=False, figsize=(15,6), color='black')\n",
    "ax.set_ylabel('% of Incidents', size= 20)\n",
    "ax.set_xlabel('Time of Day', size=20)\n",
    "matplotlib.rcParams[\"font.size\"] = 18\n",
    "ax.set_title('% of Incidents at each hour of day in Madison, WI')"
   ]
  },
  {
   "cell_type": "code",
   "execution_count": 16,
   "metadata": {},
   "outputs": [],
   "source": [
    "#some analysis\n",
    "\n",
    "# It appears that crimes occur the least around 8:00AM to 4:00PM, likely because of high human outdoor activity.\n",
    "# Crimes such as theft and drunk-driving are often done when its dark / after late-night parties"
   ]
  }
 ],
 "metadata": {
  "kernelspec": {
   "display_name": "Python 3",
   "language": "python",
   "name": "python3"
  },
  "language_info": {
   "codemirror_mode": {
    "name": "ipython",
    "version": 3
   },
   "file_extension": ".py",
   "mimetype": "text/x-python",
   "name": "python",
   "nbconvert_exporter": "python",
   "pygments_lexer": "ipython3",
   "version": "3.6.9"
  }
 },
 "nbformat": 4,
 "nbformat_minor": 4
}
